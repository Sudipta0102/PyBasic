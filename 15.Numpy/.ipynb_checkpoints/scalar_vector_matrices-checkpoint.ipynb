{
 "cells": [
  {
   "cell_type": "code",
   "execution_count": 2,
   "id": "fd98a326",
   "metadata": {},
   "outputs": [
    {
     "name": "stdout",
     "output_type": "stream",
     "text": [
      "Python: 3.10.1 (tags/v3.10.1:2cd268a, Dec  6 2021, 19:10:37) [MSC v.1929 64 bit (AMD64)]\n",
      "Numpy: 1.22.1\n"
     ]
    }
   ],
   "source": [
    "import sys\n",
    "import numpy as np\n",
    "\n",
    "print(f\"Python: {sys.version}\")\n",
    "print(f\"Numpy: {np.__version__}\")"
   ]
  },
  {
   "cell_type": "code",
   "execution_count": 3,
   "id": "10046f10",
   "metadata": {},
   "outputs": [
    {
     "data": {
      "text/plain": [
       "6"
      ]
     },
     "execution_count": 3,
     "metadata": {},
     "output_type": "execute_result"
    }
   ],
   "source": [
    "# defining a scalar\n",
    "x = 6\n",
    "x "
   ]
  },
  {
   "cell_type": "code",
   "execution_count": 4,
   "id": "ac730ea1",
   "metadata": {},
   "outputs": [
    {
     "data": {
      "text/plain": [
       "array([1, 2, 3])"
      ]
     },
     "execution_count": 4,
     "metadata": {},
     "output_type": "execute_result"
    }
   ],
   "source": [
    "# defining a vector \n",
    "v = np.array((1,2,3))\n",
    "v"
   ]
  },
  {
   "cell_type": "code",
   "execution_count": 5,
   "id": "417ed1d7",
   "metadata": {},
   "outputs": [
    {
     "name": "stdout",
     "output_type": "stream",
     "text": [
      "Array dimension: (3,)\n"
     ]
    }
   ],
   "source": [
    "# dimension\n",
    "print(f\"Array dimension: {v.shape}\")"
   ]
  },
  {
   "cell_type": "code",
   "execution_count": 6,
   "id": "318d649b",
   "metadata": {},
   "outputs": [
    {
     "name": "stdout",
     "output_type": "stream",
     "text": [
      "<class 'tuple'>\n"
     ]
    }
   ],
   "source": [
    "print(type(v.shape))"
   ]
  },
  {
   "cell_type": "code",
   "execution_count": 7,
   "id": "18f0dec5",
   "metadata": {},
   "outputs": [
    {
     "name": "stdout",
     "output_type": "stream",
     "text": [
      "Array size: 3\n"
     ]
    }
   ],
   "source": [
    "# size\n",
    "print(f\"Array size: {v.size}\")"
   ]
  },
  {
   "cell_type": "code",
   "execution_count": 8,
   "id": "8c4a3fdc",
   "metadata": {},
   "outputs": [
    {
     "name": "stdout",
     "output_type": "stream",
     "text": [
      "<class 'int'>\n"
     ]
    }
   ],
   "source": [
    "print(type(v.size))"
   ]
  },
  {
   "cell_type": "code",
   "execution_count": 10,
   "id": "54e5c951",
   "metadata": {},
   "outputs": [],
   "source": [
    "# defining a basic matrix here\n",
    "m = np.matrix([[1, 2, 3], [4, 5, 6], [7, 8, 9]])"
   ]
  },
  {
   "cell_type": "code",
   "execution_count": 11,
   "id": "903f08e4",
   "metadata": {},
   "outputs": [
    {
     "data": {
      "text/plain": [
       "matrix([[1, 2, 3],\n",
       "        [4, 5, 6],\n",
       "        [7, 8, 9]])"
      ]
     },
     "execution_count": 11,
     "metadata": {},
     "output_type": "execute_result"
    }
   ],
   "source": [
    "m"
   ]
  },
  {
   "cell_type": "code",
   "execution_count": 12,
   "id": "47002843",
   "metadata": {},
   "outputs": [
    {
     "name": "stdout",
     "output_type": "stream",
     "text": [
      "Matrix dimensions: (3, 3)\n"
     ]
    }
   ],
   "source": [
    "print(f\"Matrix dimensions: {m.shape}\")"
   ]
  },
  {
   "cell_type": "code",
   "execution_count": 13,
   "id": "e8771fa4",
   "metadata": {},
   "outputs": [
    {
     "name": "stdout",
     "output_type": "stream",
     "text": [
      "Matrix size: 9\n"
     ]
    }
   ],
   "source": [
    "print(f\"Matrix size: {m.size}\")\n"
   ]
  },
  {
   "cell_type": "code",
   "execution_count": 22,
   "id": "b509dab0",
   "metadata": {},
   "outputs": [
    {
     "name": "stdout",
     "output_type": "stream",
     "text": [
      "[[1. 1. 1.]\n",
      " [1. 1. 1.]\n",
      " [1. 1. 1.]]\n",
      "[[0. 0. 0. 0.]\n",
      " [0. 0. 0. 0.]\n",
      " [0. 0. 0. 0.]]\n"
     ]
    }
   ],
   "source": [
    "# defining a matrix of given dimension and fill it by 1\n",
    "matrix_filled_with_one = np.ones((3, 3))\n",
    "print(matrix_filled_with_one)\n",
    "# or, fill it by zeros\n",
    "matrix_filled_with_zeros = np.zeros((3,4))\n",
    "print(matrix_filled_with_zeros)"
   ]
  },
  {
   "cell_type": "code",
   "execution_count": 24,
   "id": "64179f28",
   "metadata": {},
   "outputs": [
    {
     "name": "stdout",
     "output_type": "stream",
     "text": [
      "[[[1. 1. 1.]\n",
      "  [1. 1. 1.]\n",
      "  [1. 1. 1.]]\n",
      "\n",
      " [[1. 1. 1.]\n",
      "  [1. 1. 1.]\n",
      "  [1. 1. 1.]]\n",
      "\n",
      " [[1. 1. 1.]\n",
      "  [1. 1. 1.]\n",
      "  [1. 1. 1.]]]\n"
     ]
    }
   ],
   "source": [
    "# now, you can add dimensions to these.\n",
    "matrix_3d = np.ones((3,3,3))\n",
    "print(matrix_3d)"
   ]
  },
  {
   "cell_type": "code",
   "execution_count": 25,
   "id": "51c52146",
   "metadata": {},
   "outputs": [
    {
     "name": "stdout",
     "output_type": "stream",
     "text": [
      "[[[0. 0. 0.]\n",
      "  [0. 0. 0.]\n",
      "  [0. 0. 0.]]\n",
      "\n",
      " [[0. 0. 0.]\n",
      "  [0. 0. 0.]\n",
      "  [0. 0. 0.]]\n",
      "\n",
      " [[0. 0. 0.]\n",
      "  [0. 0. 0.]\n",
      "  [0. 0. 0.]]]\n"
     ]
    }
   ],
   "source": [
    "matrix_3d = np.zeros((3,3,3))\n",
    "print(matrix_3d)"
   ]
  },
  {
   "cell_type": "code",
   "execution_count": 28,
   "id": "e07ea208",
   "metadata": {},
   "outputs": [
    {
     "name": "stdout",
     "output_type": "stream",
     "text": [
      "[[[1 1 1]\n",
      "  [1 1 1]\n",
      "  [1 1 1]]\n",
      "\n",
      " [[1 1 1]\n",
      "  [1 1 1]\n",
      "  [1 1 1]]\n",
      "\n",
      " [[1 1 1]\n",
      "  [1 1 1]\n",
      "  [1 1 1]]]\n"
     ]
    },
    {
     "name": "stderr",
     "output_type": "stream",
     "text": [
      "C:\\Users\\Baban\\AppData\\Local\\Temp\\ipykernel_16708\\2694233767.py:2: DeprecationWarning: `np.int` is a deprecated alias for the builtin `int`. To silence this warning, use `int` by itself. Doing this will not modify any behavior and is safe. When replacing `np.int`, you may wish to use e.g. `np.int64` or `np.int32` to specify the precision. If you wish to review your current use, check the release note link for additional information.\n",
      "Deprecated in NumPy 1.20; for more details and guidance: https://numpy.org/devdocs/release/1.20.0-notes.html#deprecations\n",
      "  matrix_3d = np.ones((3, 3, 3), dtype = np.int)\n"
     ]
    }
   ],
   "source": [
    "# as we can see, default datatype of elements is Float. We can change that to int\n",
    "matrix_3d = np.ones((3, 3, 3), dtype = np.int)\n",
    "print(matrix_3d)"
   ]
  },
  {
   "cell_type": "code",
   "execution_count": 31,
   "id": "8e51e210",
   "metadata": {},
   "outputs": [
    {
     "name": "stdout",
     "output_type": "stream",
     "text": [
      "[[[1 1 1]\n",
      "  [1 1 1]\n",
      "  [1 1 1]]\n",
      "\n",
      " [[1 1 1]\n",
      "  [1 1 1]\n",
      "  [1 1 1]]\n",
      "\n",
      " [[1 1 1]\n",
      "  [1 1 1]\n",
      "  [1 1 1]]]\n",
      "[[[0 0 0]\n",
      "  [0 0 0]\n",
      "  [0 0 0]]\n",
      "\n",
      " [[0 0 0]\n",
      "  [0 0 0]\n",
      "  [0 0 0]]\n",
      "\n",
      " [[0 0 0]\n",
      "  [0 0 0]\n",
      "  [0 0 0]]]\n"
     ]
    }
   ],
   "source": [
    "# i can do this instead\n",
    "matrix_3d = np.ones((3, 3, 3), dtype = int)\n",
    "print(matrix_3d)\n",
    "# or, \n",
    "matrix_3d_zeros = np.zeros((3, 3, 3), dtype = np.int64)\n",
    "print(matrix_3d_zeros)"
   ]
  },
  {
   "cell_type": "code",
   "execution_count": 36,
   "id": "5ae72df9",
   "metadata": {},
   "outputs": [
    {
     "name": "stdout",
     "output_type": "stream",
     "text": [
      "[[1 1 1]\n",
      " [1 1 1]\n",
      " [1 1 1]]\n",
      "1\n",
      "[[1 1 2]\n",
      " [1 1 1]\n",
      " [1 1 1]]\n"
     ]
    }
   ],
   "source": [
    "# indexing\n",
    "matrix_2d = np.ones((3, 3), dtype = int)\n",
    "print(matrix_2d)\n",
    "print(matrix_2d[2][2])\n",
    "matrix_2d[0][2] = 2\n",
    "print(matrix_2d)"
   ]
  },
  {
   "cell_type": "code",
   "execution_count": 39,
   "id": "39ad2b4b",
   "metadata": {},
   "outputs": [
    {
     "name": "stdout",
     "output_type": "stream",
     "text": [
      "[2 1 1]\n"
     ]
    }
   ],
   "source": [
    "# selecting a whole column\n",
    "# i think, ':'-> helps to get all the rows at once. and the subsequent 2 meaning I am looking for 3rd column. \n",
    "print(matrix_2d[:,2])\n",
    "\n"
   ]
  },
  {
   "cell_type": "code",
   "execution_count": 47,
   "id": "987ef50e",
   "metadata": {},
   "outputs": [
    {
     "name": "stdout",
     "output_type": "stream",
     "text": [
      "[[1 1 3]\n",
      " [1 1 3]\n",
      " [1 1 3]]\n",
      "[[1 1 4]\n",
      " [1 1 5]\n",
      " [1 1 6]]\n"
     ]
    }
   ],
   "source": [
    "# also I can reassign the value of a whole column like this.\n",
    "matrix_2d[:, 2] = 3\n",
    "print(matrix_2d)\n",
    "# or like this, \n",
    "matrix_2d[:, 2] = 4, 5, 6\n",
    "print(matrix_2d)"
   ]
  },
  {
   "cell_type": "code",
   "execution_count": 48,
   "id": "7a6a9229",
   "metadata": {},
   "outputs": [
    {
     "ename": "ValueError",
     "evalue": "could not broadcast input array from shape (2,) into shape (3,)",
     "output_type": "error",
     "traceback": [
      "\u001b[1;31m---------------------------------------------------------------------------\u001b[0m",
      "\u001b[1;31mValueError\u001b[0m                                Traceback (most recent call last)",
      "Input \u001b[1;32mIn [48]\u001b[0m, in \u001b[0;36m<module>\u001b[1;34m\u001b[0m\n\u001b[0;32m      1\u001b[0m \u001b[38;5;66;03m# but can't do this\u001b[39;00m\n\u001b[1;32m----> 2\u001b[0m matrix_2d[:, \u001b[38;5;241m2\u001b[39m] \u001b[38;5;241m=\u001b[39m \u001b[38;5;241m4\u001b[39m, \u001b[38;5;241m6\u001b[39m\n\u001b[0;32m      3\u001b[0m \u001b[38;5;28mprint\u001b[39m(matrix_2d)\n",
      "\u001b[1;31mValueError\u001b[0m: could not broadcast input array from shape (2,) into shape (3,)"
     ]
    }
   ],
   "source": [
    "# but can't do this\n",
    "matrix_2d[:, 2] = 4, 6\n",
    "print(matrix_2d)"
   ]
  },
  {
   "cell_type": "code",
   "execution_count": 50,
   "id": "fdafa757",
   "metadata": {},
   "outputs": [
    {
     "name": "stdout",
     "output_type": "stream",
     "text": [
      "[[5 5 5]\n",
      " [5 5 5]\n",
      " [5 5 5]]\n"
     ]
    }
   ],
   "source": [
    "# also, can do it for all rows and all columns \n",
    "matrix_2d[:,:] = 5\n",
    "print(matrix_2d)"
   ]
  },
  {
   "cell_type": "code",
   "execution_count": null,
   "id": "ab0c83ea",
   "metadata": {},
   "outputs": [],
   "source": []
  }
 ],
 "metadata": {
  "kernelspec": {
   "display_name": "Python 3",
   "language": "python",
   "name": "python3"
  },
  "language_info": {
   "codemirror_mode": {
    "name": "ipython",
    "version": 3
   },
   "file_extension": ".py",
   "mimetype": "text/x-python",
   "name": "python",
   "nbconvert_exporter": "python",
   "pygments_lexer": "ipython3",
   "version": "3.10.1"
  }
 },
 "nbformat": 4,
 "nbformat_minor": 5
}
